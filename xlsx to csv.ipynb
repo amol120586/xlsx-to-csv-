{
 "cells": [
  {
   "cell_type": "code",
   "execution_count": null,
   "metadata": {
    "collapsed": true
   },
   "outputs": [],
   "source": [
    "'''  MOdel is working fine the way I tested. It is successfully converting each \n",
    "     '.xlsx' file as well as each sheet present in file to the '.csv' file. \n",
    "     we just need to give the valid location path in 'directoryPath'     '''"
   ]
  },
  {
   "cell_type": "code",
   "execution_count": null,
   "metadata": {
    "collapsed": true
   },
   "outputs": [],
   "source": [
    "import os\n",
    "import pandas as pd\n",
    "import xlrd"
   ]
  },
  {
   "cell_type": "code",
   "execution_count": null,
   "metadata": {
    "collapsed": true,
    "scrolled": true
   },
   "outputs": [],
   "source": [
    "#Function - Excel-to-csv converter\n",
    "\n",
    "def xlsx_to_csv(directoryPath):                                                \n",
    "    for folders, sub_folders, file in os.walk(directoryPath):    #map the directory\n",
    "        for name in file:                                        #'for' loop to traverse through each individual file\n",
    "            if name.endswith(\".xlsx\"):                           #'if' loop to find '.xlsx' file\n",
    "                wb_name = name.split(\".xlsx\")[0]                 #logic to split First_Name of the .xlsx file\n",
    "                wb_path = os.path.join(folders, name)\n",
    "                wb = xlrd.open_workbook(wb_path)\n",
    "                                              \n",
    "                for n in range(wb.nsheets):                      #'for' loop to traverse through each 'sheet' present in the '.xlsx' file\n",
    "                    sh = wb.sheet_by_index(n)                    # To find no. of sheets present in file\n",
    "                    if sh.ncols or sh.nrows:                     # 'for' loop to find out whether sheet is filled or empty\n",
    "                        csv_name = wb_name + '_' + sh.name       #Creating '.csv' file name\n",
    "                        x = pd.read_excel(wb_path, sheetname=n, index=False)     #read the xlsx sheet\n",
    "                        x.to_csv(csv_name+'.csv', encoding='utf-8',index=None)   # write into new csv file\n",
    "        \n",
    "           \n",
    "                     "
   ]
  },
  {
   "cell_type": "code",
   "execution_count": null,
   "metadata": {
    "collapsed": true
   },
   "outputs": [],
   "source": [
    "directoryPath = r'C:\\Users\\Mangesh\\Desktop\\Test.xlsx'\n",
    "xlsx_to_csv(directoryPath)"
   ]
  },
  {
   "cell_type": "code",
   "execution_count": null,
   "metadata": {
    "collapsed": true,
    "scrolled": true
   },
   "outputs": [],
   "source": []
  },
  {
   "cell_type": "code",
   "execution_count": null,
   "metadata": {
    "collapsed": true
   },
   "outputs": [],
   "source": []
  },
  {
   "cell_type": "code",
   "execution_count": null,
   "metadata": {
    "collapsed": true
   },
   "outputs": [],
   "source": []
  },
  {
   "cell_type": "code",
   "execution_count": null,
   "metadata": {
    "collapsed": true
   },
   "outputs": [],
   "source": [
    " "
   ]
  },
  {
   "cell_type": "code",
   "execution_count": null,
   "metadata": {
    "collapsed": true
   },
   "outputs": [],
   "source": [
    "\n",
    "        "
   ]
  }
 ],
 "metadata": {
  "kernelspec": {
   "display_name": "Python 2",
   "language": "python",
   "name": "python2"
  },
  "language_info": {
   "codemirror_mode": {
    "name": "ipython",
    "version": 2
   },
   "file_extension": ".py",
   "mimetype": "text/x-python",
   "name": "python",
   "nbconvert_exporter": "python",
   "pygments_lexer": "ipython2",
   "version": "2.7.15"
  }
 },
 "nbformat": 4,
 "nbformat_minor": 2
}
